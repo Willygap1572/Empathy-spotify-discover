{
 "cells": [
  {
   "attachments": {},
   "cell_type": "markdown",
   "metadata": {},
   "source": [
    "# SpotifyDiscover\n",
    "Data analisys to find out the best features and develop an example of an access to the API."
   ]
  },
  {
   "attachments": {},
   "cell_type": "markdown",
   "metadata": {},
   "source": [
    "## Libs"
   ]
  },
  {
   "cell_type": "code",
   "execution_count": 5,
   "metadata": {},
   "outputs": [
    {
     "data": {
      "text/plain": [
       "True"
      ]
     },
     "execution_count": 5,
     "metadata": {},
     "output_type": "execute_result"
    }
   ],
   "source": [
    "import spotipy\n",
    "import spotipy.oauth2 as oauth2\n",
    "import pandas as pd\n",
    "from dotenv import load_dotenv\n",
    "import os\n",
    "load_dotenv()"
   ]
  },
  {
   "attachments": {},
   "cell_type": "markdown",
   "metadata": {},
   "source": [
    "## Log-in"
   ]
  },
  {
   "cell_type": "code",
   "execution_count": 8,
   "metadata": {},
   "outputs": [],
   "source": [
    "username = 'gdeandre'\n",
    "user_id = os.environ.get('USER_ID')\n",
    "cid = os.environ.get('CID')\n",
    "secret = os.environ.get('SECRET')\n",
    "redirect_uri = 'http://localhost:8080/callback'"
   ]
  },
  {
   "cell_type": "code",
   "execution_count": 9,
   "metadata": {},
   "outputs": [],
   "source": [
    "# Crea una instancia del objeto SpotifyOAuth\n",
    "sp = spotipy.Spotify(auth_manager=oauth2.SpotifyOAuth(client_id=cid,\n",
    "                                               client_secret=secret,\n",
    "                                               redirect_uri=redirect_uri))\n"
   ]
  },
  {
   "attachments": {},
   "cell_type": "markdown",
   "metadata": {},
   "source": [
    "## Playlist Dataframe\n",
    "\n",
    "### Key we must take into account\n",
    "- Tracks\n",
    "- Popularity"
   ]
  },
  {
   "cell_type": "code",
   "execution_count": 10,
   "metadata": {},
   "outputs": [
    {
     "data": {
      "text/plain": [
       "Index(['collaborative', 'description', 'external_urls', 'href', 'id', 'images',\n",
       "       'name', 'owner', 'primary_color', 'public', 'snapshot_id', 'tracks',\n",
       "       'type', 'uri'],\n",
       "      dtype='object')"
      ]
     },
     "execution_count": 10,
     "metadata": {},
     "output_type": "execute_result"
    }
   ],
   "source": [
    "playlists = sp.user_playlists(username)\n",
    "playlists = pd.DataFrame.from_dict(playlists)\n",
    "dic = {'playlists': []}\n",
    "dic = dic['playlists'] + list(playlists['items'])\n",
    "playlists = pd.DataFrame.from_dict(dic)\n",
    "playlists.head().keys()"
   ]
  },
  {
   "attachments": {},
   "cell_type": "markdown",
   "metadata": {},
   "source": [
    "## Tracks\n",
    "\n",
    "### Key we must take into account\n",
    "- popularity\n",
    "- artist\n",
    "- available markets (Tiene que estar ES)\n"
   ]
  },
  {
   "cell_type": "code",
   "execution_count": 12,
   "metadata": {},
   "outputs": [
    {
     "data": {
      "text/plain": [
       "dict_keys(['album', 'artists', 'available_markets', 'disc_number', 'duration_ms', 'episode', 'explicit', 'external_ids', 'external_urls', 'href', 'id', 'is_local', 'name', 'popularity', 'preview_url', 'track', 'track_number', 'type', 'uri'])"
      ]
     },
     "execution_count": 12,
     "metadata": {},
     "output_type": "execute_result"
    }
   ],
   "source": [
    "tracks = sp.playlist_tracks(playlists.head(1)['id'][0])\n",
    "tracks['items'][0]['track']['artists']\n",
    "tracks['items'][0]['track'].keys()"
   ]
  },
  {
   "attachments": {},
   "cell_type": "markdown",
   "metadata": {},
   "source": [
    "## Artist\n",
    "\n",
    "### Key we must take into account\n",
    "- Followers\n",
    "- Genres\n",
    "- Popularity"
   ]
  },
  {
   "cell_type": "code",
   "execution_count": 13,
   "metadata": {},
   "outputs": [
    {
     "data": {
      "text/plain": [
       "dict_keys(['external_urls', 'followers', 'genres', 'href', 'id', 'images', 'name', 'popularity', 'type', 'uri'])"
      ]
     },
     "execution_count": 13,
     "metadata": {},
     "output_type": "execute_result"
    }
   ],
   "source": [
    "artist = sp.artist(tracks['items'][0]['track']['artists'][0]['id'])\n",
    "artist.keys()"
   ]
  }
 ],
 "metadata": {
  "kernelspec": {
   "display_name": "Python 3",
   "language": "python",
   "name": "python3"
  },
  "language_info": {
   "codemirror_mode": {
    "name": "ipython",
    "version": 3
   },
   "file_extension": ".py",
   "mimetype": "text/x-python",
   "name": "python",
   "nbconvert_exporter": "python",
   "pygments_lexer": "ipython3",
   "version": "3.9.6"
  },
  "orig_nbformat": 4
 },
 "nbformat": 4,
 "nbformat_minor": 2
}
